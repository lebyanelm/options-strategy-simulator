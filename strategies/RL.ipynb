{
 "cells": [
  {
   "cell_type": "code",
   "execution_count": 38,
   "metadata": {},
   "outputs": [],
   "source": []
  },
  {
   "cell_type": "code",
   "execution_count": 3,
   "metadata": {},
   "outputs": [
    {
     "data": {
      "text/html": [
       "<div>\n",
       "<style scoped>\n",
       "    .dataframe tbody tr th:only-of-type {\n",
       "        vertical-align: middle;\n",
       "    }\n",
       "\n",
       "    .dataframe tbody tr th {\n",
       "        vertical-align: top;\n",
       "    }\n",
       "\n",
       "    .dataframe thead th {\n",
       "        text-align: right;\n",
       "    }\n",
       "</style>\n",
       "<table border=\"1\" class=\"dataframe\">\n",
       "  <thead>\n",
       "    <tr style=\"text-align: right;\">\n",
       "      <th></th>\n",
       "      <th>Date</th>\n",
       "      <th>Open</th>\n",
       "      <th>High</th>\n",
       "      <th>Low</th>\n",
       "      <th>Close</th>\n",
       "      <th>Volume</th>\n",
       "    </tr>\n",
       "  </thead>\n",
       "  <tbody>\n",
       "    <tr>\n",
       "      <th>0</th>\n",
       "      <td>2021-03-12</td>\n",
       "      <td>275.00</td>\n",
       "      <td>295.50</td>\n",
       "      <td>262.27</td>\n",
       "      <td>264.5</td>\n",
       "      <td>25,845,900</td>\n",
       "    </tr>\n",
       "    <tr>\n",
       "      <th>1</th>\n",
       "      <td>2021-03-11</td>\n",
       "      <td>241.64</td>\n",
       "      <td>281.50</td>\n",
       "      <td>232.60</td>\n",
       "      <td>260.0</td>\n",
       "      <td>28,312,490</td>\n",
       "    </tr>\n",
       "    <tr>\n",
       "      <th>2</th>\n",
       "      <td>2021-03-10</td>\n",
       "      <td>269.43</td>\n",
       "      <td>348.50</td>\n",
       "      <td>172.00</td>\n",
       "      <td>265.0</td>\n",
       "      <td>71,570,570</td>\n",
       "    </tr>\n",
       "    <tr>\n",
       "      <th>3</th>\n",
       "      <td>2021-03-09</td>\n",
       "      <td>217.71</td>\n",
       "      <td>249.85</td>\n",
       "      <td>208.51</td>\n",
       "      <td>246.9</td>\n",
       "      <td>39,099,328</td>\n",
       "    </tr>\n",
       "    <tr>\n",
       "      <th>4</th>\n",
       "      <td>2021-03-08</td>\n",
       "      <td>154.89</td>\n",
       "      <td>210.87</td>\n",
       "      <td>146.10</td>\n",
       "      <td>194.5</td>\n",
       "      <td>63,565,621</td>\n",
       "    </tr>\n",
       "  </tbody>\n",
       "</table>\n",
       "</div>"
      ],
      "text/plain": [
       "        Date    Open    High     Low  Close      Volume\n",
       "0 2021-03-12  275.00  295.50  262.27  264.5  25,845,900\n",
       "1 2021-03-11  241.64  281.50  232.60  260.0  28,312,490\n",
       "2 2021-03-10  269.43  348.50  172.00  265.0  71,570,570\n",
       "3 2021-03-09  217.71  249.85  208.51  246.9  39,099,328\n",
       "4 2021-03-08  154.89  210.87  146.10  194.5  63,565,621"
      ]
     },
     "execution_count": 3,
     "metadata": {},
     "output_type": "execute_result"
    }
   ],
   "source": [
    "# Include the data to be used for the RL training\n",
    "data = pd.read_csv(\"https://raw.githubusercontent.com/nicknochnack/Reinforcement-Learning-for-Trading/main/data/gmedata.csv\")\n",
    "data[\"Date\"] = pd.to_datetime(data[\"Date\"])\n",
    "data.head()"
   ]
  },
  {
   "cell_type": "code",
   "execution_count": 4,
   "metadata": {},
   "outputs": [],
   "source": []
  },
  {
   "cell_type": "code",
   "execution_count": 48,
   "metadata": {},
   "outputs": [
    {
     "data": {
      "text/plain": [
       "3"
      ]
     },
     "execution_count": 48,
     "metadata": {},
     "output_type": "execute_result"
    }
   ],
   "source": [
    "spaces.Discrete(len(ActionsSpace)).n"
   ]
  },
  {
   "cell_type": "code",
   "execution_count": 45,
   "metadata": {},
   "outputs": [],
   "source": []
  },
  {
   "cell_type": "code",
   "execution_count": 47,
   "metadata": {},
   "outputs": [
    {
     "ename": "AttributeError",
     "evalue": "'numpy.ndarray' object has no attribute 'diff'",
     "output_type": "error",
     "traceback": [
      "\u001b[0;31m---------------------------------------------------------------------------\u001b[0m",
      "\u001b[0;31mAttributeError\u001b[0m                            Traceback (most recent call last)",
      "Cell \u001b[0;32mIn[47], line 2\u001b[0m\n\u001b[1;32m      1\u001b[0m env \u001b[38;5;241m=\u001b[39m TradingEnv(data\u001b[38;5;241m=\u001b[39mdata, initial_capital\u001b[38;5;241m=\u001b[39m\u001b[38;5;241m1_000\u001b[39m, expiration_time\u001b[38;5;241m=\u001b[39m\u001b[38;5;241m3_600\u001b[39m, interval\u001b[38;5;241m=\u001b[39m\u001b[38;5;241m60\u001b[39m)\n\u001b[0;32m----> 2\u001b[0m \u001b[43menv\u001b[49m\u001b[38;5;241;43m.\u001b[39;49m\u001b[43m_process_data\u001b[49m\u001b[43m(\u001b[49m\u001b[43m)\u001b[49m\n",
      "Cell \u001b[0;32mIn[45], line 33\u001b[0m, in \u001b[0;36mTradingEnv._process_data\u001b[0;34m(self)\u001b[0m\n\u001b[1;32m     31\u001b[0m \u001b[38;5;28;01mdef\u001b[39;00m \u001b[38;5;21m_process_data\u001b[39m(\u001b[38;5;28mself\u001b[39m):\n\u001b[1;32m     32\u001b[0m     closing_prices \u001b[38;5;241m=\u001b[39m \u001b[38;5;28mself\u001b[39m\u001b[38;5;241m.\u001b[39mdata[\u001b[38;5;124m'\u001b[39m\u001b[38;5;124mClose\u001b[39m\u001b[38;5;124m'\u001b[39m]\u001b[38;5;241m.\u001b[39mto_numpy()\n\u001b[0;32m---> 33\u001b[0m     rsi \u001b[38;5;241m=\u001b[39m \u001b[43mta\u001b[49m\u001b[38;5;241;43m.\u001b[39;49m\u001b[43mmomentum\u001b[49m\u001b[38;5;241;43m.\u001b[39;49m\u001b[43mrsi\u001b[49m\u001b[43m(\u001b[49m\u001b[43mclosing_prices\u001b[49m\u001b[43m,\u001b[49m\u001b[43m \u001b[49m\u001b[43mwindow\u001b[49m\u001b[38;5;241;43m=\u001b[39;49m\u001b[38;5;241;43m13\u001b[39;49m\u001b[43m)\u001b[49m\n\u001b[1;32m     34\u001b[0m     \u001b[38;5;28;01mreturn\u001b[39;00m rsi\n",
      "File \u001b[0;32m~/.local/lib/python3.10/site-packages/ta/momentum.py:787\u001b[0m, in \u001b[0;36mrsi\u001b[0;34m(close, window, fillna)\u001b[0m\n\u001b[1;32m    769\u001b[0m \u001b[38;5;28;01mdef\u001b[39;00m \u001b[38;5;21mrsi\u001b[39m(close, window\u001b[38;5;241m=\u001b[39m\u001b[38;5;241m14\u001b[39m, fillna\u001b[38;5;241m=\u001b[39m\u001b[38;5;28;01mFalse\u001b[39;00m) \u001b[38;5;241m-\u001b[39m\u001b[38;5;241m>\u001b[39m pd\u001b[38;5;241m.\u001b[39mSeries:\n\u001b[1;32m    770\u001b[0m \u001b[38;5;250m    \u001b[39m\u001b[38;5;124;03m\"\"\"Relative Strength Index (RSI)\u001b[39;00m\n\u001b[1;32m    771\u001b[0m \n\u001b[1;32m    772\u001b[0m \u001b[38;5;124;03m    Compares the magnitude of recent gains and losses over a specified time\u001b[39;00m\n\u001b[0;32m   (...)\u001b[0m\n\u001b[1;32m    785\u001b[0m \u001b[38;5;124;03m        pandas.Series: New feature generated.\u001b[39;00m\n\u001b[1;32m    786\u001b[0m \u001b[38;5;124;03m    \"\"\"\u001b[39;00m\n\u001b[0;32m--> 787\u001b[0m     \u001b[38;5;28;01mreturn\u001b[39;00m \u001b[43mRSIIndicator\u001b[49m\u001b[43m(\u001b[49m\u001b[43mclose\u001b[49m\u001b[38;5;241;43m=\u001b[39;49m\u001b[43mclose\u001b[49m\u001b[43m,\u001b[49m\u001b[43m \u001b[49m\u001b[43mwindow\u001b[49m\u001b[38;5;241;43m=\u001b[39;49m\u001b[43mwindow\u001b[49m\u001b[43m,\u001b[49m\u001b[43m \u001b[49m\u001b[43mfillna\u001b[49m\u001b[38;5;241;43m=\u001b[39;49m\u001b[43mfillna\u001b[49m\u001b[43m)\u001b[49m\u001b[38;5;241m.\u001b[39mrsi()\n",
      "File \u001b[0;32m~/.local/lib/python3.10/site-packages/ta/momentum.py:34\u001b[0m, in \u001b[0;36mRSIIndicator.__init__\u001b[0;34m(self, close, window, fillna)\u001b[0m\n\u001b[1;32m     32\u001b[0m \u001b[38;5;28mself\u001b[39m\u001b[38;5;241m.\u001b[39m_window \u001b[38;5;241m=\u001b[39m window\n\u001b[1;32m     33\u001b[0m \u001b[38;5;28mself\u001b[39m\u001b[38;5;241m.\u001b[39m_fillna \u001b[38;5;241m=\u001b[39m fillna\n\u001b[0;32m---> 34\u001b[0m \u001b[38;5;28;43mself\u001b[39;49m\u001b[38;5;241;43m.\u001b[39;49m\u001b[43m_run\u001b[49m\u001b[43m(\u001b[49m\u001b[43m)\u001b[49m\n",
      "File \u001b[0;32m~/.local/lib/python3.10/site-packages/ta/momentum.py:37\u001b[0m, in \u001b[0;36mRSIIndicator._run\u001b[0;34m(self)\u001b[0m\n\u001b[1;32m     36\u001b[0m \u001b[38;5;28;01mdef\u001b[39;00m \u001b[38;5;21m_run\u001b[39m(\u001b[38;5;28mself\u001b[39m):\n\u001b[0;32m---> 37\u001b[0m     diff \u001b[38;5;241m=\u001b[39m \u001b[38;5;28;43mself\u001b[39;49m\u001b[38;5;241;43m.\u001b[39;49m\u001b[43m_close\u001b[49m\u001b[38;5;241;43m.\u001b[39;49m\u001b[43mdiff\u001b[49m(\u001b[38;5;241m1\u001b[39m)\n\u001b[1;32m     38\u001b[0m     up_direction \u001b[38;5;241m=\u001b[39m diff\u001b[38;5;241m.\u001b[39mwhere(diff \u001b[38;5;241m>\u001b[39m \u001b[38;5;241m0\u001b[39m, \u001b[38;5;241m0.0\u001b[39m)\n\u001b[1;32m     39\u001b[0m     down_direction \u001b[38;5;241m=\u001b[39m \u001b[38;5;241m-\u001b[39mdiff\u001b[38;5;241m.\u001b[39mwhere(diff \u001b[38;5;241m<\u001b[39m \u001b[38;5;241m0\u001b[39m, \u001b[38;5;241m0.0\u001b[39m)\n",
      "\u001b[0;31mAttributeError\u001b[0m: 'numpy.ndarray' object has no attribute 'diff'"
     ]
    }
   ],
   "source": [
    "env = TradingEnv(data=data, initial_capital=1_000, expiration_time=3_600, interval=60)\n",
    "env._process_data()"
   ]
  },
  {
   "cell_type": "code",
   "execution_count": 44,
   "metadata": {},
   "outputs": [
    {
     "data": {
      "text/plain": [
       "array([-4.5000e+00,  5.0000e+00, -1.8100e+01, -5.2400e+01, -5.6760e+01,\n",
       "       -5.3900e+00, -8.1700e+00, -6.0000e+00,  2.2200e+00, -1.8660e+01,\n",
       "        6.9900e+00, -1.7020e+01, -4.6740e+01,  1.0300e+00, -5.4100e+00,\n",
       "        1.0000e-01,  5.2500e+00,  3.5700e+00,  2.8900e+00, -1.3000e+00,\n",
       "        1.0000e-01, -8.9000e-01,  9.6900e+00,  3.7700e+00, -1.0270e+01,\n",
       "        3.8910e+01, -2.4100e+00,  1.3500e+02,  1.0000e+02, -1.3140e+02,\n",
       "        1.5391e+02, -1.9953e+02, -7.1190e+01, -1.1780e+01, -2.1980e+01,\n",
       "       -3.9100e+00,  2.4000e-01, -3.8600e+00,  4.4100e+00, -8.5100e+00,\n",
       "       -1.1450e+01, -1.0000e-02, -2.2500e+00,  3.9000e-01,  2.8000e-01,\n",
       "       -9.9000e-01, -1.2000e-01,  1.5900e+00,  4.2000e-01,  1.2000e-01,\n",
       "        1.6100e+00, -8.4000e-01,  4.2000e-01, -1.1100e+00, -3.9300e+00,\n",
       "        1.0000e-01, -8.0000e-01, -9.8000e-01,  0.0000e+00, -1.1300e+00,\n",
       "        5.9000e-01,  8.1000e-01, -4.6000e-01,  3.2800e+00, -5.9000e-01,\n",
       "        5.5000e-01, -7.8000e-01,  4.6000e-01, -7.8000e-01,  7.6000e-01,\n",
       "       -4.8000e-01, -1.3300e+00, -1.0800e+00,  2.3000e-01, -1.1900e+00,\n",
       "       -2.5000e-01, -8.9000e-01,  6.0000e-02,  4.3000e-01, -1.0500e+00,\n",
       "        1.2000e-01,  6.2000e-01, -6.5000e-01,  3.9000e-01,  3.7000e-01,\n",
       "       -4.1000e-01, -5.4000e-01,  6.6000e-01, -8.2000e-01, -2.8000e-01,\n",
       "        1.2600e+00,  9.0000e-02,  8.7000e-01,  7.6000e-01,  1.5500e+00,\n",
       "       -9.0000e-02, -8.1000e-01, -2.4000e-01,  5.0000e-02, -6.0000e-01,\n",
       "        5.2000e-01, -1.5800e+00, -3.7000e-01, -8.0000e-02,  2.2000e-01,\n",
       "        1.4700e+00, -4.1300e+00, -2.3000e-01,  3.3000e-01, -7.0000e-02,\n",
       "        3.8000e-01,  4.3000e-01,  1.5000e-01, -2.6000e-01, -7.0000e-02,\n",
       "       -8.8000e-01,  9.0000e-01,  5.2000e-01, -1.8100e+00,  7.2000e-01,\n",
       "       -2.7000e-01, -5.2000e-01, -1.5900e+00, -1.8000e-01, -8.2000e-01,\n",
       "        1.4000e-01,  1.1200e+00,  3.5000e-01, -5.0000e-02,  1.7000e-01,\n",
       "       -1.1000e-01, -6.0000e-02, -9.7000e-01, -1.2900e+00, -1.4000e-01,\n",
       "       -1.4000e-01, -1.3000e-01, -1.1000e-01,  1.6000e-01, -4.2000e-01,\n",
       "        1.1000e-01,  9.0000e-02, -1.8000e-01,  1.2000e-01, -1.1000e-01,\n",
       "       -1.2000e-01, -1.7000e-01, -2.0000e-02, -1.7000e-01,  2.7000e-01,\n",
       "        2.0000e-01, -2.0000e-01, -2.8000e-01, -1.4000e-01,  9.0000e-02,\n",
       "       -4.0000e-02, -1.2000e-01,  7.0000e-02,  2.0000e-02,  8.0000e-02,\n",
       "        0.0000e+00, -1.0000e-01, -1.6000e-01,  1.1000e-01,  2.1000e-01,\n",
       "        2.0000e-02, -1.1000e-01,  1.8000e-01,  8.0000e-02, -1.3000e-01,\n",
       "        5.0000e-02, -1.7000e-01,  1.5000e-01,  5.0000e-02,  1.5000e-01,\n",
       "       -1.0000e-01,  4.0000e-02, -3.0000e-02,  1.1000e-01, -5.0000e-02,\n",
       "        4.2000e-01,  4.0000e-02,  1.0000e-02,  7.0000e-02, -1.9000e-01,\n",
       "       -1.2000e-01,  5.0000e-02,  3.0000e-02, -3.5000e-01,  7.0000e-01,\n",
       "       -1.1000e-01,  5.0000e-02, -8.7000e-01,  3.3000e-01, -3.0000e-02,\n",
       "       -2.6000e-01, -5.0000e-02, -7.0000e-02,  2.7000e-01,  3.6000e-01,\n",
       "       -2.7000e-01, -2.4000e-01,  2.6000e-01, -1.0000e-02,  1.0000e-02,\n",
       "        1.4000e-01, -3.6000e-01, -9.0000e-02,  8.0000e-02,  3.3000e-01,\n",
       "        2.2000e-01,  2.2000e-01, -1.1000e-01,  6.0000e-02,  4.6000e-01,\n",
       "        9.0000e-02,  5.7000e-01, -3.2000e-01,  3.1000e-01, -4.0000e-01,\n",
       "        1.8000e-01, -1.0500e+00, -7.0000e-02,  1.9000e-01, -1.1000e-01,\n",
       "        8.3000e-01, -7.3000e-01,  1.5000e-01,  2.4000e-01,  6.8000e-01,\n",
       "       -1.2100e+00, -8.5000e-01, -4.8000e-01, -1.4000e-01, -1.8000e-01,\n",
       "       -2.9000e-01,  5.0000e-02,  4.0000e-01,  2.5000e-01,  1.5000e-01,\n",
       "        5.7000e-01,  1.9000e-01, -2.4000e-01, -1.0000e-02, -3.5000e-01,\n",
       "       -5.0000e-02,  4.3000e-01, -4.2000e-01,  4.6000e-01,  1.4000e-01])"
      ]
     },
     "execution_count": 44,
     "metadata": {},
     "output_type": "execute_result"
    }
   ],
   "source": [
    "prices = data[\"Close\"].to_numpy()\n",
    "np.diff(prices)"
   ]
  }
 ],
 "metadata": {
  "kernelspec": {
   "display_name": "Python 3",
   "language": "python",
   "name": "python3"
  },
  "language_info": {
   "codemirror_mode": {
    "name": "ipython",
    "version": 3
   },
   "file_extension": ".py",
   "mimetype": "text/x-python",
   "name": "python",
   "nbconvert_exporter": "python",
   "pygments_lexer": "ipython3",
   "version": "3.10.12"
  }
 },
 "nbformat": 4,
 "nbformat_minor": 2
}
